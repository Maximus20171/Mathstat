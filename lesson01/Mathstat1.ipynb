{
 "cells": [
  {
   "cell_type": "markdown",
   "metadata": {},
   "source": [
    "1. Из колоды в 52 карты извлекаются случайным образом 4 карты. a) Найти вероятность того, что все карты – крести. б) Найти вероятность, что среди 4-х карт окажется хотя бы один туз."
   ]
  },
  {
   "cell_type": "markdown",
   "metadata": {},
   "source": [
    "Решение:\n",
    "\n",
    "a)  Всего 4 масти по 13 карт в колоде. Найдем кол-во сочетаний 4ех карт крести в общим их кол-ве = $\\frac{13!}{4!(13-4)!}=715$. \n",
    "\n",
    "Общее кол-во сочетаний вытащить 4 карты в колоде = $ \\frac{52!}{4!(52-4)!}=270725 $\n",
    "\n",
    "Итого вероятность что все будут крести = $ \\frac{715}{270725}$"
   ]
  },
  {
   "cell_type": "code",
   "execution_count": 29,
   "metadata": {},
   "outputs": [
    {
     "data": {
      "text/plain": [
       "0.0026410564225690276"
      ]
     },
     "execution_count": 29,
     "metadata": {},
     "output_type": "execute_result"
    }
   ],
   "source": [
    "veroytnost=715/270725\n",
    "veroytnost"
   ]
  },
  {
   "cell_type": "markdown",
   "metadata": {},
   "source": [
    "Еще один способ. Вероятность того, что 1 карта извлеченная из колоды будет крести = $\\frac{13}{52}$. Вероятность вытщить 2ую карту крести из оставшейся колоды = $\\frac{12}{51}$, 3ую = $\\frac{11}{50}$, 4ую = $\\frac{10}{49}$\n",
    "Т.к. вероятноси вытащить все 4 карты крести должны наступить одновременно, то перемножим их:"
   ]
  },
  {
   "cell_type": "code",
   "execution_count": 28,
   "metadata": {},
   "outputs": [
    {
     "data": {
      "text/plain": [
       "0.0026410564225690276"
      ]
     },
     "execution_count": 28,
     "metadata": {},
     "output_type": "execute_result"
    }
   ],
   "source": [
    "veroytnost=13/52*12/51*11/50*10/49\n",
    "veroytnost"
   ]
  },
  {
   "cell_type": "markdown",
   "metadata": {},
   "source": [
    "б) Всего 4 туза в колоде. Найдем число сочитаний тузов в 4ех картах:\n",
    "\n",
    "1 туз = $\\frac{4!}{1!(4-1)!}=4$\n",
    "\n",
    "2 туза = $\\frac{4!}{2!(4-2)!}=6$\n",
    "\n",
    "3 туза = $\\frac{4!}{3!(4-3)!}=4$\n",
    "\n",
    "4 туза = $\\frac{4!}{4!(4-4)!}=1$\n",
    "\n",
    "общая сумма сочетаний = 6+4+4+1=15, а карт 52. Т.е. вероятность равна $\\frac{15}{52}$"
   ]
  },
  {
   "cell_type": "code",
   "execution_count": null,
   "metadata": {},
   "outputs": [],
   "source": []
  },
  {
   "cell_type": "markdown",
   "metadata": {},
   "source": [
    "2. На входной двери подъезда установлен кодовый замок, содержащий десять кнопок с цифрами от 0 до 9. Код содержит три цифры, которые нужно нажать одновременно. Какова вероятность того, что человек, не знающий код, откроет дверь с первой попытки?"
   ]
  },
  {
   "cell_type": "markdown",
   "metadata": {},
   "source": [
    "Решение:\n",
    "\n",
    "Используем формулу размещения (т.к. важен порядок в цифррах) для опредения того сколько таких сочитаний:\n",
    "$\\frac{n!}{(n-k)!}=\\frac{10!}{(10-3)!}=720$. Т.к. правильный ответ только 1, то вероятность подбора равна $\\frac{1}{720}$"
   ]
  },
  {
   "cell_type": "code",
   "execution_count": null,
   "metadata": {},
   "outputs": [],
   "source": []
  },
  {
   "cell_type": "markdown",
   "metadata": {},
   "source": [
    "3. В ящике имеется 15 деталей, из которых 9 окрашены. Рабочий случайным образом извлекает 3 детали. Какова вероятность того, что все извлеченные детали окрашены?"
   ]
  },
  {
   "cell_type": "markdown",
   "metadata": {},
   "source": [
    "Решение:\n",
    "\n",
    "Вероятность вытащить первую деталь окрашенной равна 9/15, вторую 8/14, третью 7/13. \n",
    "Т.к все эти события должнв совпадать, то перемножим их:"
   ]
  },
  {
   "cell_type": "code",
   "execution_count": 35,
   "metadata": {},
   "outputs": [
    {
     "data": {
      "text/plain": [
       "0.1846153846153846"
      ]
     },
     "execution_count": 35,
     "metadata": {},
     "output_type": "execute_result"
    }
   ],
   "source": [
    "veroytnost=9/15*8/14*7/13\n",
    "veroytnost"
   ]
  },
  {
   "cell_type": "code",
   "execution_count": null,
   "metadata": {},
   "outputs": [],
   "source": []
  },
  {
   "cell_type": "markdown",
   "metadata": {},
   "source": [
    "4. В лотерее 100 билетов. Из них 2 выигрышных. Какова вероятность того, что 2 приобретенных билета окажутся выигрышными?"
   ]
  },
  {
   "cell_type": "markdown",
   "metadata": {},
   "source": [
    "Решение:\n",
    "Вероятность вытащить первый выйгрышный билет = 2/100, в второй 1/99. Два события должны совпасть, поэтому перемножим:"
   ]
  },
  {
   "cell_type": "code",
   "execution_count": 40,
   "metadata": {},
   "outputs": [
    {
     "data": {
      "text/plain": [
       "0.00020202020202020202"
      ]
     },
     "execution_count": 40,
     "metadata": {},
     "output_type": "execute_result"
    }
   ],
   "source": [
    "veroytnost=2/100*1/99\n",
    "veroytnost"
   ]
  },
  {
   "cell_type": "code",
   "execution_count": null,
   "metadata": {},
   "outputs": [],
   "source": []
  }
 ],
 "metadata": {
  "kernelspec": {
   "display_name": "Python 3",
   "language": "python",
   "name": "python3"
  },
  "language_info": {
   "codemirror_mode": {
    "name": "ipython",
    "version": 3
   },
   "file_extension": ".py",
   "mimetype": "text/x-python",
   "name": "python",
   "nbconvert_exporter": "python",
   "pygments_lexer": "ipython3",
   "version": "3.7.6"
  }
 },
 "nbformat": 4,
 "nbformat_minor": 4
}
