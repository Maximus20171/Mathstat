{
 "cells": [
  {
   "cell_type": "markdown",
   "metadata": {},
   "source": [
    "Даны значения зарплат из выборки выпускников: 100, 80, 75, 77, 89, 33, 45, 25, 65, 17, 30, 24, 57, 55, 70, 75, 65, 84, 90, 150. Посчитать (желательно без использования статистических методов наподобие std, var, mean) среднее арифметическое, среднее квадратичное отклонение, смещенную и несмещенную оценки дисперсий для данной выборки."
   ]
  },
  {
   "cell_type": "code",
   "execution_count": 101,
   "metadata": {},
   "outputs": [],
   "source": [
    "import numpy as np\n",
    "X=[100, 80, 75, 77, 89, 33, 45, 25, 65, 17, 30, 24, 57, 55, 70, 75, 65, 84, 90, 150]"
   ]
  },
  {
   "cell_type": "code",
   "execution_count": 102,
   "metadata": {},
   "outputs": [
    {
     "data": {
      "text/plain": [
       "65.3"
      ]
     },
     "execution_count": 102,
     "metadata": {},
     "output_type": "execute_result"
    }
   ],
   "source": [
    "## cреднее арифметическое\n",
    "x_shtrih=sum(X)/len(X)\n",
    "x_shtrih"
   ]
  },
  {
   "cell_type": "code",
   "execution_count": 103,
   "metadata": {},
   "outputs": [
    {
     "data": {
      "text/plain": [
       "30.823854398825596"
      ]
     },
     "execution_count": 103,
     "metadata": {},
     "output_type": "execute_result"
    }
   ],
   "source": [
    "## среднее квадратичное отклонение\n",
    "q=[]\n",
    "for x in X:\n",
    "    qq=(x-x_shtrih)**2\n",
    "    q.append(qq)\n",
    "S=sum(q)/(len(X))\n",
    "\n",
    "np.sqrt(S)"
   ]
  },
  {
   "cell_type": "code",
   "execution_count": 104,
   "metadata": {},
   "outputs": [
    {
     "name": "stdout",
     "output_type": "stream",
     "text": [
      "Смещенная = 950.11\n",
      "Не смещенная = 1000.1157894736842\n"
     ]
    }
   ],
   "source": [
    "## Дисперссия смещенная и не Смещенная\n",
    "q=[]\n",
    "for x in X:\n",
    "    qq=(x-x_shtrih)**2\n",
    "    q.append(qq)\n",
    "D_displ=sum(q)/len(X)\n",
    "D_not_displ=sum(q)/(len(X)-1)\n",
    "\n",
    "print ('Смещенная =',D_displ)\n",
    "print ('Не смещенная =',D_not_displ)"
   ]
  },
  {
   "cell_type": "code",
   "execution_count": null,
   "metadata": {},
   "outputs": [],
   "source": []
  },
  {
   "cell_type": "markdown",
   "metadata": {},
   "source": [
    "В первом ящике находится 8 мячей, из которых 5 - белые. Во втором ящике - 12 мячей, из которых 5 белых. Из первого ящика вытаскивают случайным образом два мяча, из второго - 4. Какова вероятность того, что 3 мяча белые?"
   ]
  },
  {
   "cell_type": "markdown",
   "metadata": {},
   "source": [
    "Решение:\n",
    "    \n",
    "Достать 3 белых можно 3мя способами:\n",
    "\n",
    "1) 0 из первого и 3 из второго \n",
    "2) 1 из первого и 2 из второго\n",
    "3) 2 из первого и 1 из второго"
   ]
  },
  {
   "cell_type": "code",
   "execution_count": 51,
   "metadata": {},
   "outputs": [],
   "source": [
    "from math import factorial\n",
    "def combinations(n, k):\n",
    "    return int(factorial(n) / (factorial(k) * factorial(n - k)))"
   ]
  },
  {
   "cell_type": "markdown",
   "metadata": {},
   "source": [
    "#### 1) 0 из первого и 3 из второго "
   ]
  },
  {
   "cell_type": "code",
   "execution_count": 105,
   "metadata": {},
   "outputs": [
    {
     "data": {
      "text/plain": [
       "0.10714285714285714"
      ]
     },
     "execution_count": 105,
     "metadata": {},
     "output_type": "execute_result"
    }
   ],
   "source": [
    "## вероятность достать 2 черных из первого ящика\n",
    "v1=combinations(3,2)/combinations(8,2)\n",
    "v1"
   ]
  },
  {
   "cell_type": "code",
   "execution_count": 106,
   "metadata": {},
   "outputs": [
    {
     "data": {
      "text/plain": [
       "0.020202020202020204"
      ]
     },
     "execution_count": 106,
     "metadata": {},
     "output_type": "execute_result"
    }
   ],
   "source": [
    "## вероятность достать 3 белых из второго ящика\n",
    "v2=combinations(5,3)/combinations(12,4)\n",
    "v2"
   ]
  },
  {
   "cell_type": "code",
   "execution_count": 107,
   "metadata": {},
   "outputs": [
    {
     "data": {
      "text/plain": [
       "0.0021645021645021645"
      ]
     },
     "execution_count": 107,
     "metadata": {},
     "output_type": "execute_result"
    }
   ],
   "source": [
    "## Вероятность что 2 события совпадут\n",
    "v03=v1*v2\n",
    "v03"
   ]
  },
  {
   "cell_type": "markdown",
   "metadata": {},
   "source": [
    "#### 2) 1 из первого и 2 из второго"
   ]
  },
  {
   "cell_type": "code",
   "execution_count": 108,
   "metadata": {},
   "outputs": [
    {
     "data": {
      "text/plain": [
       "0.17857142857142858"
      ]
     },
     "execution_count": 108,
     "metadata": {},
     "output_type": "execute_result"
    }
   ],
   "source": [
    "## вероятность достать 1 белый из первого ящика\n",
    "v1=combinations(5,1)/combinations(8,2)\n",
    "v1"
   ]
  },
  {
   "cell_type": "code",
   "execution_count": 109,
   "metadata": {},
   "outputs": [
    {
     "data": {
      "text/plain": [
       "0.020202020202020204"
      ]
     },
     "execution_count": 109,
     "metadata": {},
     "output_type": "execute_result"
    }
   ],
   "source": [
    "## вероятность достать 2 белых из второго ящика\n",
    "v2=combinations(5,2)/combinations(12,4)\n",
    "v2"
   ]
  },
  {
   "cell_type": "code",
   "execution_count": 110,
   "metadata": {},
   "outputs": [
    {
     "data": {
      "text/plain": [
       "0.003607503607503608"
      ]
     },
     "execution_count": 110,
     "metadata": {},
     "output_type": "execute_result"
    }
   ],
   "source": [
    "## Вероятность что 2 события совпадут\n",
    "v12=v1*v2\n",
    "v12"
   ]
  },
  {
   "cell_type": "markdown",
   "metadata": {},
   "source": [
    "#### 3) 2 из первого и 1 из второго"
   ]
  },
  {
   "cell_type": "code",
   "execution_count": 111,
   "metadata": {},
   "outputs": [
    {
     "data": {
      "text/plain": [
       "0.35714285714285715"
      ]
     },
     "execution_count": 111,
     "metadata": {},
     "output_type": "execute_result"
    }
   ],
   "source": [
    "## вероятность достать 2 белых из первого ящика\n",
    "v1=combinations(5,2)/combinations(8,2)\n",
    "v1"
   ]
  },
  {
   "cell_type": "code",
   "execution_count": 112,
   "metadata": {},
   "outputs": [
    {
     "data": {
      "text/plain": [
       "0.010101010101010102"
      ]
     },
     "execution_count": 112,
     "metadata": {},
     "output_type": "execute_result"
    }
   ],
   "source": [
    "## вероятность достать 1 белый из второго ящика\n",
    "v2=combinations(5,1)/combinations(12,4)\n",
    "v2"
   ]
  },
  {
   "cell_type": "code",
   "execution_count": 113,
   "metadata": {},
   "outputs": [
    {
     "data": {
      "text/plain": [
       "0.003607503607503608"
      ]
     },
     "execution_count": 113,
     "metadata": {},
     "output_type": "execute_result"
    }
   ],
   "source": [
    "## Вероятность что 2 события совпадут\n",
    "v21=v1*v2\n",
    "v21"
   ]
  },
  {
   "cell_type": "code",
   "execution_count": 114,
   "metadata": {},
   "outputs": [
    {
     "data": {
      "text/plain": [
       "0.00937950937950938"
      ]
     },
     "execution_count": 114,
     "metadata": {},
     "output_type": "execute_result"
    }
   ],
   "source": [
    "## вероятность что 3 меча будут белые\n",
    "v=v21+v12+v03\n",
    "v"
   ]
  },
  {
   "cell_type": "code",
   "execution_count": null,
   "metadata": {},
   "outputs": [],
   "source": []
  },
  {
   "cell_type": "markdown",
   "metadata": {},
   "source": [
    "На соревновании по биатлону один из трех спортсменов стреляет и попадает в мишень. Вероятность попадания для первого спортсмена равна 0.9, для второго — 0.8, для третьего — 0.6. Найти вероятность того, что выстрел произведен: a). первым спортсменом б). вторым спортсменом в). третьим спортсменом"
   ]
  },
  {
   "cell_type": "markdown",
   "metadata": {},
   "source": [
    "Решение:\n",
    "Для решения используем формулу Байеса\n",
    "\n",
    "$$P(B\\:|\\:A) = \\frac{P(B) \\cdot P(A\\:|\\:B)}{P(A)}$$\n",
    "\n",
    "$$P(A\\:|\\:B_1) = 0.9$$\n",
    "\n",
    "$$P(A\\:|\\:B_2) = 0.8$$\n",
    "\n",
    "$$P(A\\:|\\:B_3) = 0.6$$\n"
   ]
  },
  {
   "cell_type": "markdown",
   "metadata": {},
   "source": [
    "Поддставяляя соответсвующие значения найдем вероятности для спортсменов:\n",
    "\n",
    "а)\n",
    "$$P(B_1\\:|\\:A) = \\frac{P(B_1) \\cdot P(A\\:|\\:B_1)}{P(A)}= \\frac{\\frac{1}{3} \\cdot 0.9}{\\frac{1}{3} \\cdot 0.9 + \\frac{1}{3} \\cdot 0.8 + \\frac{1}{3} \\cdot 0.6} \\approx 0.39$$\n",
    "\n",
    "б)\n",
    "$$P(B_2\\:|\\:A) = \\frac{P(B_2) \\cdot P(A\\:|\\:B_2)}{P(A)}= \\frac{\\frac{1}{3} \\cdot 0.8}{\\frac{1}{3} \\cdot 0.9 + \\frac{1}{3} \\cdot 0.8 + \\frac{1}{3} \\cdot 0.6} \\approx 0.34$$\n",
    "\n",
    "в)\n",
    "$$P(B_3\\:|\\:A) = \\frac{P(B_3) \\cdot P(A\\:|\\:B_3)}{P(A)}= \\frac{\\frac{1}{3} \\cdot 0.6}{\\frac{1}{3} \\cdot 0.9 + \\frac{1}{3} \\cdot 0.8 + \\frac{1}{3} \\cdot 0.6} \\approx 0.26$$"
   ]
  },
  {
   "cell_type": "code",
   "execution_count": null,
   "metadata": {},
   "outputs": [],
   "source": []
  },
  {
   "cell_type": "markdown",
   "metadata": {},
   "source": [
    "В университет на факультеты A и B поступило равное количество студентов, а на факультет C студентов поступило столько же, сколько на A и B вместе. Вероятность того, что студент факультета A сдаст первую сессию, равна 0.8. Для студента факультета B эта вероятность равна 0.7, а для студента факультета C - 0.9. Студент сдал первую сессию. Какова вероятность, что он учится: a). на факультете A б). на факультете B в). на факультете C?"
   ]
  },
  {
   "cell_type": "markdown",
   "metadata": {},
   "source": [
    "Решение:\n",
    "\n",
    "Для решения используем формулу Байеса\n",
    "\n",
    "$$P(B\\:|\\:A) = \\frac{P(B) \\cdot P(A\\:|\\:B)}{P(A)}$$\n",
    "\n",
    "Обозначим B_1 - студенты фактултета A, B_2 - студенты факультета B, B_3 - студенты факультета С. Тогда\n",
    "\n",
    "$$P(A\\:|\\:B_1) = 0.8$$\n",
    "\n",
    "$$P(A\\:|\\:B_2) = 0.7$$\n",
    "\n",
    "$$P(A\\:|\\:B_3) = 0.9$$\n",
    "    \n",
    "Поддставяляя соответсвующие значения найдем вероятности (учтем что кол-во студентоы в группе С в 2 раза больше чем в других):\n",
    "\n",
    "а)\n",
    "$$P(B_1\\:|\\:A) = \\frac{P(B_1) \\cdot P(A\\:|\\:B_1)}{P(A)}= \\frac{\\frac{1}{4} \\cdot 0.8}{\\frac{1}{4} \\cdot 0.8 + \\frac{1}{4} \\cdot 0.7 + \\frac{1}{2} \\cdot 0.9} \\approx 0.24$$\n",
    "\n",
    "б)\n",
    "$$P(B_2\\:|\\:A) = \\frac{P(B_2) \\cdot P(A\\:|\\:B_2)}{P(A)}= \\frac{\\frac{1}{4} \\cdot 0.7}{\\frac{1}{4} \\cdot 0.8 + \\frac{1}{4} \\cdot 0.7 + \\frac{1}{2} \\cdot 0.9} \\approx 0.21$$\n",
    "\n",
    "в)\n",
    "$$P(B_3\\:|\\:A) = \\frac{P(B_3) \\cdot P(A\\:|\\:B_3)}{P(A)}= \\frac{\\frac{1}{2} \\cdot 0.9}{\\frac{1}{4} \\cdot 0.8 + \\frac{1}{4} \\cdot 0.7 + \\frac{1}{2} \\cdot 0.9} \\approx 0.55$$\n"
   ]
  },
  {
   "cell_type": "code",
   "execution_count": null,
   "metadata": {},
   "outputs": [],
   "source": []
  },
  {
   "cell_type": "markdown",
   "metadata": {},
   "source": [
    "Устройство состоит из трех деталей. Для первой детали вероятность выйти из строя в первый месяц равна 0.1, для второй - 0.2, для третьей - 0.25. Какова вероятность того, что в первый месяц выйдут из строя: а). все детали б). только две детали в). хотя бы одна деталь г). от одной до двух деталей?"
   ]
  },
  {
   "cell_type": "markdown",
   "metadata": {},
   "source": [
    "Решение:\n",
    "    \n",
    "а)  По формуле полной вероятности перемножим значения. \n",
    "$$ v=v1*v2*v3=0.1*0.2*0.25=0.005 $$ \n",
    "Т.е. вероятность равна 0.5%"
   ]
  },
  {
   "cell_type": "code",
   "execution_count": null,
   "metadata": {},
   "outputs": [],
   "source": []
  },
  {
   "cell_type": "markdown",
   "metadata": {},
   "source": [
    "б) 3 варианта, что сломаются 2 детали:\n",
    "\n",
    "1) сломается первая и вторая деталь при этом не сломается третья\n",
    "$$ v=v1*v2*\\overline {v3} =0.1*0.2*0.75=0.015 $$ \n",
    "\n",
    "2) сломается первая и третья деталь при этом не сломается вторая\n",
    "\n",
    "$$ v=v1*v3*\\overline {v2} =0.1*0.25*0.8=0.02 $$ \n",
    "\n",
    "3) сломается вторяя и третья деталь при этом не сломается первая\n",
    "\n",
    "$$ v=\\overline {v1}*v2*v3 =0.9*0.2*0.25=0.045 $$ \n",
    "\n",
    "т.е. вероятность, что сломается 2 детали равна $0.015+0.02+0.045=0.08$"
   ]
  },
  {
   "cell_type": "code",
   "execution_count": null,
   "metadata": {},
   "outputs": [],
   "source": []
  },
  {
   "cell_type": "markdown",
   "metadata": {},
   "source": [
    "в) Посчитаем вероятность что не одна деталь не сломается:\n",
    "$$ v=\\overline {v1}*\\overline {v2}*\\overline {v3} =0.9*0.8*0.75=0.54 $$ \n",
    "Вероятность, что сломается хотя бы одна равна  $1- v=0.46$"
   ]
  },
  {
   "cell_type": "code",
   "execution_count": null,
   "metadata": {},
   "outputs": [],
   "source": []
  },
  {
   "cell_type": "markdown",
   "metadata": {},
   "source": [
    "г)\n",
    "Значем вероятность что сломается хотя бы одна деталь $= 0.46$\n",
    "Так же мы знаем выроятность, что сломается все три детали $= 0.005$\n",
    "\n",
    "Т.е. вероятность того, что одна или две детали выйдут из строя равны $0.46-0.005=0.455$"
   ]
  },
  {
   "cell_type": "code",
   "execution_count": null,
   "metadata": {},
   "outputs": [],
   "source": []
  }
 ],
 "metadata": {
  "kernelspec": {
   "display_name": "Python 3",
   "language": "python",
   "name": "python3"
  },
  "language_info": {
   "codemirror_mode": {
    "name": "ipython",
    "version": 3
   },
   "file_extension": ".py",
   "mimetype": "text/x-python",
   "name": "python",
   "nbconvert_exporter": "python",
   "pygments_lexer": "ipython3",
   "version": "3.7.6"
  }
 },
 "nbformat": 4,
 "nbformat_minor": 4
}
