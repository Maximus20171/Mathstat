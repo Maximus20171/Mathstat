{
 "cells": [
  {
   "cell_type": "markdown",
   "metadata": {},
   "source": [
    "Даны значения величины заработной платы заемщиков банка (zp) и значения их поведенческого кредитного скоринга (ks):\n",
    "zp = [35, 45, 190, 200, 40, 70, 54, 150, 120, 110],\n",
    "ks = [401, 574, 874, 919, 459, 739, 653, 902, 746, 832].\n",
    "Найдите ковариацию этих двух величин с помощью элементарных действий, а затем с помощью функции cov из numpy\n",
    "Полученные значения должны быть равны.\n",
    "Найдите коэффициент корреляции Пирсона с помощью ковариации и среднеквадратичных отклонений двух признаков,\n",
    "а затем с использованием функций из библиотек numpy и pandas."
   ]
  },
  {
   "cell_type": "code",
   "execution_count": 1,
   "metadata": {},
   "outputs": [],
   "source": [
    "import numpy as np\n",
    "zp = np.array([35, 45, 190, 200, 40, 70, 54, 150, 120, 110])\n",
    "ks = np.array([401, 574, 874, 919, 459, 739, 653, 902, 746, 832])"
   ]
  },
  {
   "cell_type": "code",
   "execution_count": 2,
   "metadata": {},
   "outputs": [
    {
     "data": {
      "text/plain": [
       "9157.839999999997"
      ]
     },
     "execution_count": 2,
     "metadata": {},
     "output_type": "execute_result"
    }
   ],
   "source": [
    "# Ковариация по формуле\n",
    "np.mean(zp*ks)-np.mean(zp)*np.mean(ks)"
   ]
  },
  {
   "cell_type": "code",
   "execution_count": 3,
   "metadata": {},
   "outputs": [
    {
     "data": {
      "text/plain": [
       "array([[ 3494.64,  9157.84],\n",
       "       [ 9157.84, 30468.89]])"
      ]
     },
     "execution_count": 3,
     "metadata": {},
     "output_type": "execute_result"
    }
   ],
   "source": [
    "## Проверка\n",
    "np.cov(zp,ks, ddof=0)"
   ]
  },
  {
   "cell_type": "markdown",
   "metadata": {},
   "source": [
    "Коэф-т корреляции Пирсона находится по формуле:\n",
    "\n",
    "$$r_{XY} = \\frac{cov_{XY}}{\\sigma_{X}\\sigma_{Y}}$$\n",
    "\n",
    "Ковариация уже известна. Осталось найти $\\sigma$"
   ]
  },
  {
   "cell_type": "code",
   "execution_count": 4,
   "metadata": {},
   "outputs": [
    {
     "name": "stdout",
     "output_type": "stream",
     "text": [
      "59.115480206118605\n",
      "62.31318747531162\n"
     ]
    }
   ],
   "source": [
    "# Сигма_х\n",
    "print (np.std(zp, ddof=0))\n",
    "print (np.std(zp, ddof=1))"
   ]
  },
  {
   "cell_type": "code",
   "execution_count": 5,
   "metadata": {},
   "outputs": [
    {
     "name": "stdout",
     "output_type": "stream",
     "text": [
      "174.55340157098058\n",
      "183.99544076477068\n"
     ]
    }
   ],
   "source": [
    "# Сигма_y\n",
    "print (np.std(ks, ddof=0))\n",
    "print (np.std(ks, ddof=1))"
   ]
  },
  {
   "cell_type": "code",
   "execution_count": 6,
   "metadata": {},
   "outputs": [
    {
     "data": {
      "text/plain": [
       "array([[0.33866702, 0.88749009],\n",
       "       [0.88749009, 2.95275283]])"
      ]
     },
     "execution_count": 6,
     "metadata": {},
     "output_type": "execute_result"
    }
   ],
   "source": [
    "## первый ваариант. \n",
    "np.cov(zp,ks, ddof=0)/(np.std(zp)*np.std(ks))"
   ]
  },
  {
   "cell_type": "code",
   "execution_count": 7,
   "metadata": {},
   "outputs": [
    {
     "data": {
      "text/plain": [
       "array([[0.33866702, 0.88749009],\n",
       "       [0.88749009, 2.95275283]])"
      ]
     },
     "execution_count": 7,
     "metadata": {},
     "output_type": "execute_result"
    }
   ],
   "source": [
    "## второй вариант\n",
    "np.cov(zp,ks, ddof=1)/(np.std(zp, ddof=1)*np.std(ks, ddof=1))"
   ]
  },
  {
   "cell_type": "code",
   "execution_count": 8,
   "metadata": {},
   "outputs": [
    {
     "data": {
      "text/plain": [
       "array([[1.        , 0.88749009],\n",
       "       [0.88749009, 1.        ]])"
      ]
     },
     "execution_count": 8,
     "metadata": {},
     "output_type": "execute_result"
    }
   ],
   "source": [
    "## Проверка.\n",
    "np.corrcoef(zp,ks)"
   ]
  },
  {
   "cell_type": "code",
   "execution_count": null,
   "metadata": {},
   "outputs": [],
   "source": []
  },
  {
   "cell_type": "markdown",
   "metadata": {},
   "source": [
    "Измерены значения IQ выборки студентов,\n",
    "обучающихся в местных технических вузах:\n",
    "131, 125, 115, 122, 131, 115, 107, 99, 125, 111.\n",
    "Известно, что в генеральной совокупности IQ распределен нормально.\n",
    "Найдите доверительный интервал для математического ожидания с надежностью 0.95."
   ]
  },
  {
   "cell_type": "markdown",
   "metadata": {},
   "source": [
    "Решение:\n",
    "\n",
    "Формула нахождения довертельного интервала ($\\sigma$ не известна):\n",
    "\n",
    "$$ \\overline x \\pm (t_{a/2}\\cdot \\frac{\\sigma}{\\sqrt n})$$\n",
    "\n",
    "\n",
    "α=5% . т.к. у нас не односторонний критерий, то для вычеслений используем 2.5%.\n",
    "При α=0,025 и при v=9 $t$ табличное = 2.262. Найдем интервал:\n",
    "\n",
    "$$ 118.1 \\pm (2.262 \\cdot \\frac{10.55}{\\sqrt {10}})$$\n",
    "\n",
    "т.е. мат ожидание находится в интервале [110.56;125.64] с вероятностью 95%"
   ]
  },
  {
   "cell_type": "markdown",
   "metadata": {},
   "source": [
    "$$ 118.1 \\pm (2.262 \\cdot \\frac{10.55}{\\sqrt {10}})$$"
   ]
  },
  {
   "cell_type": "code",
   "execution_count": 9,
   "metadata": {},
   "outputs": [],
   "source": [
    "from math import sqrt\n",
    "iq=[131, 125, 115, 122, 131, 115, 107, 99, 125, 111]"
   ]
  },
  {
   "cell_type": "code",
   "execution_count": 10,
   "metadata": {},
   "outputs": [
    {
     "name": "stdout",
     "output_type": "stream",
     "text": [
      "средняя M(a) = 118.1\n",
      "стандарное отклонение = 10.54566788359614\n"
     ]
    }
   ],
   "source": [
    "## средняя и дисперсия\n",
    "print ('средняя M(a) =', np.mean(iq))\n",
    "print ('стандарное отклонение =', np.std(iq, ddof=1))"
   ]
  },
  {
   "cell_type": "code",
   "execution_count": 11,
   "metadata": {},
   "outputs": [
    {
     "name": "stdout",
     "output_type": "stream",
     "text": [
      "110.55660776308164\n",
      "125.64339223691834\n"
     ]
    }
   ],
   "source": [
    "# доверительный интервал\n",
    "print(118.1-(2.262*np.std(iq, ddof=1)/sqrt(len(iq))))\n",
    "print(118.1+(2.262*np.std(iq, ddof=1)/sqrt(len(iq))))"
   ]
  },
  {
   "cell_type": "code",
   "execution_count": null,
   "metadata": {},
   "outputs": [],
   "source": []
  },
  {
   "cell_type": "markdown",
   "metadata": {},
   "source": [
    "Известно, что рост футболистов в сборной распределен нормально\n",
    "с дисперсией генеральной совокупности, равной 25 кв.см. Объем выборки равен 27,\n",
    "среднее выборочное составляет 174.2. Найдите доверительный интервал для математического\n",
    "ожидания с надежностью 0.95."
   ]
  },
  {
   "cell_type": "markdown",
   "metadata": {},
   "source": [
    "Формула нахождения довертельного интервала:\n",
    "\n",
    "$$ \\overline x \\pm (Z_{a/2} \\cdot \\frac{\\sigma}{\\sqrt{n}})$$\n",
    "\n",
    "Дисперсия = 25 кв. см. Зачит среднеквадратичное отклонение $ \\sigma = \\sqrt {25}=5$\n",
    "\n",
    "α=5% . т.к. у нас не односторонний критерий, то для вычеслений используем 2.5%.\n",
    "При α=0.025 $z$ табличное = 1.96. Найдем интервал:\n",
    "$$ 174.2 \\pm (1.96 \\cdot \\frac{5}{\\sqrt{27}})$$\n",
    "\n",
    "т.е. доверительный интервал лежит в диапазоне $[172.31; 176.09]$ с 5% вероятностью ошибки\n"
   ]
  },
  {
   "cell_type": "code",
   "execution_count": 12,
   "metadata": {},
   "outputs": [
    {
     "name": "stdout",
     "output_type": "stream",
     "text": [
      "172.31398912064722\n",
      "176.08601087935276\n"
     ]
    }
   ],
   "source": [
    "# доверительный интервал\n",
    "print(174.2-(1.96*5/sqrt(27)))\n",
    "print(174.2+(1.96*5/sqrt(27)))"
   ]
  },
  {
   "cell_type": "code",
   "execution_count": null,
   "metadata": {},
   "outputs": [],
   "source": []
  }
 ],
 "metadata": {
  "kernelspec": {
   "display_name": "Python 3",
   "language": "python",
   "name": "python3"
  },
  "language_info": {
   "codemirror_mode": {
    "name": "ipython",
    "version": 3
   },
   "file_extension": ".py",
   "mimetype": "text/x-python",
   "name": "python",
   "nbconvert_exporter": "python",
   "pygments_lexer": "ipython3",
   "version": "3.7.6"
  }
 },
 "nbformat": 4,
 "nbformat_minor": 4
}
